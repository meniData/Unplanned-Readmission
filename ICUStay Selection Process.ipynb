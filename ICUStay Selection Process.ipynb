{
 "cells": [
  {
   "cell_type": "markdown",
   "id": "140c4bb9",
   "metadata": {},
   "source": [
    "# This notebook enables recreation of the list of ICU stays used in our paper, after gaining access to MIMIC-III. \n",
    "### It does not contain the full preprocessing methods, only those necessary for ICUSTAY filtration.\n",
    "Parts of this notebook were inspired by https://github.com/sebbarb/time_aware_attention, the accompanying repository to the paper: \n",
    "**Barbieri, Sebastiano et al. “Benchmarking Deep Learning Architectures for Predicting Readmission to the ICU and Describing Patients-at-Risk.” Scientific Reports 10 (2019)**"
   ]
  },
  {
   "cell_type": "code",
   "execution_count": 1,
   "id": "b9909f5a",
   "metadata": {},
   "outputs": [],
   "source": [
    "import pandas as pd\n",
    "import numpy as np\n",
    "from tqdm import tqdm\n",
    "import os\n",
    "import warnings\n",
    "tqdm.pandas()\n",
    "warnings.filterwarnings('ignore')"
   ]
  },
  {
   "cell_type": "code",
   "execution_count": 2,
   "id": "a4043761",
   "metadata": {},
   "outputs": [],
   "source": [
    "# insert your own path here. It should contain all the tables you downloaded from MIMIC-III in csv format\n",
    "mimic_dir = \"\""
   ]
  },
  {
   "cell_type": "markdown",
   "id": "c5459051",
   "metadata": {},
   "source": [
    "# Demographics\n",
    "### This is the initial filtering, based on patient demographics and details of the stay."
   ]
  },
  {
   "cell_type": "code",
   "execution_count": 3,
   "id": "b7a3a1a1",
   "metadata": {},
   "outputs": [
    {
     "name": "stdout",
     "output_type": "stream",
     "text": [
      "Load ICU stays...\n",
      "Number of ICUSTAYS Initially: 61532\n",
      "-----------------------------------------\n",
      "Load patients...\n",
      "-----------------------------------------\n",
      "Link icustays and patients tables...\n",
      "Compute number of recent admissions...\n"
     ]
    },
    {
     "name": "stderr",
     "output_type": "stream",
     "text": [
      "100%|███████████████████████████████████████████████████████████████████████████| 43126/43126 [01:42<00:00, 420.09it/s]\n"
     ]
    },
    {
     "name": "stdout",
     "output_type": "stream",
     "text": [
      "-----------------------------------------\n",
      "Total nulls per column (should be zero): \n",
      "SUBJECT_ID               0\n",
      "HADM_ID                  0\n",
      "ICUSTAY_ID               0\n",
      "INTIME                   0\n",
      "OUTTIME                  0\n",
      "LOS                      0\n",
      "GENDER                   0\n",
      "NUM_RECENT_ADMISSIONS    0\n",
      "AGE                      0\n",
      "POSITIVE                 0\n",
      "dtype: int64\n",
      "-----------------------------------------\n",
      "Number of ICUSTAYS remaining: 30339\n"
     ]
    }
   ],
   "source": [
    "print('Load ICU stays...')\n",
    "dtype = {'SUBJECT_ID': 'int32',\n",
    "       'HADM_ID': 'int32',\n",
    "       'ICUSTAY_ID': 'int32',\n",
    "       'INTIME': 'str',\n",
    "       'OUTTIME': 'str',\n",
    "       'LOS': 'float32'}\n",
    "parse_dates = ['INTIME', 'OUTTIME']\n",
    "icustays = pd.read_csv(mimic_dir + 'ICUSTAYS.csv', usecols=dtype.keys(), dtype=dtype, parse_dates=parse_dates)\n",
    "print('Number of ICUSTAYS Initially:', icustays.ICUSTAY_ID.nunique())\n",
    "\n",
    "print('-----------------------------------------')\n",
    "\n",
    "print('Load patients...')\n",
    "dtype = {'SUBJECT_ID': 'int32',\n",
    "       'GENDER': 'str',\n",
    "       'DOB': 'str',\n",
    "       'DOD': 'str'}\n",
    "parse_dates = ['DOB', 'DOD']\n",
    "patients = pd.read_csv(mimic_dir + 'PATIENTS.csv', usecols=dtype.keys(), dtype=dtype, parse_dates=parse_dates)  \n",
    "\n",
    "# Adjust shifted DOBs for older patients (median imputation)\n",
    "old_patient = patients['DOB'].dt.year < 2000\n",
    "date_offset = pd.DateOffset(years=(300-91), days=(-0.4*365))\n",
    "patients['DOB'][old_patient] = patients['DOB'][old_patient].apply(lambda x: x + date_offset)\n",
    "\n",
    "print('-----------------------------------------')\n",
    "# Link icustays and patients tables\n",
    "print('Link icustays and patients tables...')\n",
    "icu_pat = pd.merge(icustays, patients, how='inner', on='SUBJECT_ID')\n",
    "icu_pat.sort_values(by=['SUBJECT_ID', 'OUTTIME'], ascending=[True, False], inplace=True)\n",
    "\n",
    "# Exclude icu stays during which patient died\n",
    "icu_pat = icu_pat[~(icu_pat['DOD'] <= icu_pat['OUTTIME'])]\n",
    "\n",
    "# Determine number of icu discharges in the last 365 days\n",
    "print('Compute number of recent admissions...')\n",
    "icu_pat['NUM_RECENT_ADMISSIONS'] = 0\n",
    "for name, group in tqdm(icu_pat.groupby(['SUBJECT_ID'])):\n",
    "    for index, row in group.iterrows():\n",
    "        days_diff = (row['OUTTIME']-group['OUTTIME']).dt.days\n",
    "        icu_pat.at[index, 'NUM_RECENT_ADMISSIONS'] = len(group[(days_diff > 0) & (days_diff <= 365)])\n",
    "\n",
    "# Create age variable and exclude patients < 18 y.o.\n",
    "icu_pat['AGE'] = (icu_pat['OUTTIME'] - icu_pat['DOB']).dt.days/365.\n",
    "icu_pat = icu_pat[icu_pat['AGE'] >= 18]\n",
    "\n",
    "# Time to next admission (discharge to admission!)\n",
    "icu_pat['DAYS_TO_NEXT'] = (icu_pat.groupby(['SUBJECT_ID']).shift(1)['INTIME'] - icu_pat['OUTTIME']).dt.days\n",
    "\n",
    "# Add early readmission flag (less than 30 days after discharge)\n",
    "icu_pat['POSITIVE'] = (icu_pat['DAYS_TO_NEXT'] <= 30)\n",
    "\n",
    "# Add early death flag (less than 30 days after discharge)\n",
    "early_death = ((icu_pat['DOD'] - icu_pat['OUTTIME']).dt.days <= 30)\n",
    "\n",
    "# Censor negative patients who died within less than 30 days after discharge (no chance of readmission)\n",
    "icu_pat = icu_pat[icu_pat['POSITIVE'] | ~early_death]\n",
    "\n",
    "# remove icustays that are part of a sequence-i.e, the hospital already knows them. Remove extreme LOS\n",
    "icu_pat_first_yearly = icu_pat[icu_pat.NUM_RECENT_ADMISSIONS == 0]\n",
    "icu_pat_first_yearly_normal = icu_pat_first_yearly[(icu_pat_first_yearly.LOS >= 1) & (icu_pat_first_yearly.LOS <= 30)]\n",
    "icu_pat = icu_pat_first_yearly_normal\n",
    "\n",
    "# Clean up\n",
    "icu_pat.drop(columns=['DOB', 'DOD', 'DAYS_TO_NEXT'], inplace=True)\n",
    "\n",
    "print('-----------------------------------------')\n",
    "print('Total nulls per column (should be zero): ')\n",
    "print(icu_pat.isnull().sum())\n",
    "\n",
    "print('-----------------------------------------')\n",
    "icu_pat.sort_values(by='ICUSTAY_ID', ascending=True, inplace=True)\n",
    "\n",
    "print('Number of ICUSTAYS remaining:', icu_pat.ICUSTAY_ID.nunique())"
   ]
  },
  {
   "cell_type": "markdown",
   "id": "6c737af5",
   "metadata": {},
   "source": [
    "# Discharge Notes\n",
    "### Here we remove ICU stays without discharge notes, or with conflicting notes.\n",
    "Notes are linked to addmissions, we need to convert them to ICU stays."
   ]
  },
  {
   "cell_type": "code",
   "execution_count": 4,
   "id": "a0ca19e6",
   "metadata": {},
   "outputs": [
    {
     "name": "stdout",
     "output_type": "stream",
     "text": [
      "Getting patients with notes\n",
      "-----------------------------------------\n",
      "Removing ICU stays without notes:\n",
      "Number of ICUSTAYS remaining: 28678\n"
     ]
    }
   ],
   "source": [
    "print('Getting patients with notes')\n",
    "notes = pd.read_csv(mimic_dir + 'NOTEEVENTS.csv')\n",
    "rel_notes = notes[(notes.HADM_ID.isin(set(icu_pat.HADM_ID))) & (notes.CATEGORY == 'Discharge summary') & (notes.DESCRIPTION=='Report')]\n",
    "merged_notes = rel_notes.merge(icu_pat[['SUBJECT_ID', 'HADM_ID', 'ICUSTAY_ID']], on=['HADM_ID', 'SUBJECT_ID'])\n",
    "simple_case = merged_notes.HADM_ID.value_counts()[merged_notes.HADM_ID.value_counts() == 1].index\n",
    "merged_notes = merged_notes[merged_notes.HADM_ID.isin(simple_case)]\n",
    "\n",
    "print('-----------------------------------------')\n",
    "print('Removing ICU stays without notes:')\n",
    "icu_pat = icu_pat[icu_pat.ICUSTAY_ID.isin(set(merged_notes.ICUSTAY_ID))]\n",
    "\n",
    "print('Number of ICUSTAYS remaining:', icu_pat.ICUSTAY_ID.nunique())"
   ]
  },
  {
   "cell_type": "markdown",
   "id": "f2f89c57",
   "metadata": {},
   "source": [
    "# Creating Labs and Charts data\n",
    "### Before we can select ICU stays with sufficient data, we need to create the relevant tables for our use case"
   ]
  },
  {
   "cell_type": "code",
   "execution_count": 5,
   "id": "83fbbaa5",
   "metadata": {},
   "outputs": [],
   "source": [
    "lab_measurments = ['HGB_BLOOD', 'PLT_BLOOD', 'GLUCOSE_BLOOD', 'PH_BLOOD', 'PO2_BLOOD',\n",
    "                   'PCO2_BLOOD', 'SODIUM_BLOOD', 'CHLORIDE_BLOOD', 'PHOSPHATE_BLOOD',\n",
    "                   'CREATININE_BLOOD', 'UREA_BLOOD', 'WBC_BLOOD']\n",
    "chart_measurments = ['GCS_TOTAL', 'HEART_RATE', 'BP', 'BODY_TEMP', 'RESPIRATORY_RATE']\n",
    "\n",
    "def item_to_concept_map(item_id):\n",
    "    #1\n",
    "    if item_id in [50811, 51222, 814, 220228]:\n",
    "        return 'HGB_BLOOD'\n",
    "    #2\n",
    "    elif item_id in [51266, 51265, 828, 227457]:\n",
    "        return 'PLT_BLOOD'\n",
    "    #3\n",
    "    elif item_id in [50809, 50931, 51478, 807, 811, 1529, 220621, 225664, 226537]:\n",
    "        return 'GLUCOSE_BLOOD'\n",
    "    #4\n",
    "    elif item_id in [51491, 50820, 780, 223830, 1126]:\n",
    "        return 'PH_BLOOD'\n",
    "    #5\n",
    "    elif item_id in [50821]:\n",
    "        return 'PO2_BLOOD'\n",
    "    #6\n",
    "    elif item_id in [50818]:\n",
    "        return 'PCO2_BLOOD'\n",
    "    #7\n",
    "    elif item_id in [50824, 50983, 220645, 837, 1536]:\n",
    "        return 'SODIUM_BLOOD'\n",
    "    #8\n",
    "    elif item_id in [50806, 50902, 788, 1523, 220602]:\n",
    "        return 'CHLORIDE_BLOOD'\n",
    "    #9\n",
    "    elif item_id in [50863, 50970]:\n",
    "        return 'PHOSPHATE_BLOOD'\n",
    "    #10\n",
    "    elif item_id in [50912, 1525, 220615, 791]:\n",
    "        return 'CREATININE_BLOOD'\n",
    "    #11\n",
    "    elif item_id in [51006]:\n",
    "        return 'UREA_BLOOD'\n",
    "    #12\n",
    "    elif item_id in [861, 1127, 1542, 220546]:\n",
    "        return 'WBC_BLOOD'\n",
    "    #13\n",
    "    elif item_id in [198, 226755]:\n",
    "        return 'GCS_TOTAL'\n",
    "    #13\n",
    "    elif item_id in [184, 220739, 226756, 227011]:\n",
    "        return 'GCS_EYE_OPENING'\n",
    "    #13\n",
    "    elif item_id in [723, 223900, 226758, 227014]:\n",
    "        return 'GCS_VERBAL_RESPONSE'\n",
    "    #13\n",
    "    elif item_id in [454, 223901, 226757, 227012]:\n",
    "        return 'GCS_MOTOR_RESPONSE'\n",
    "    #14\n",
    "    elif item_id in [211, 220045, 227018]:\n",
    "        return 'HEART_RATE'\n",
    "    #15\n",
    "    elif item_id in [52, 443, 456, 2293, 2294, 2647, 3312, 3314, 3320, 6590, 6702, 6927, 7620, 220052, 220181, 225312]:\n",
    "        return 'BP'\n",
    "    #16\n",
    "    elif item_id in [676, 677, 678, 679, 3652, 3654, 6643, 223761, 223762, 226778, 227054]:\n",
    "        return 'BODY_TEMP'\n",
    "    #17\n",
    "    elif item_id in [614, 615, 618, 619, 651, 653, 1884, 3603, 6749, 7884, 8113, 220210, 224422, 224688, 224689, 224690, 226774, 227050]:\n",
    "        return 'RESPIRATORY_RATE'\n",
    "    else:\n",
    "        return None\n"
   ]
  },
  {
   "cell_type": "code",
   "execution_count": 6,
   "id": "d8a23415",
   "metadata": {},
   "outputs": [
    {
     "name": "stdout",
     "output_type": "stream",
     "text": [
      "Loading Lab Data\n",
      "Keeping only relevant patients\n",
      "Converting lab_events admissions to ICUSTAY_IDS\n",
      "Converting ITEMID to CONCEPT\n"
     ]
    },
    {
     "name": "stderr",
     "output_type": "stream",
     "text": [
      "100%|████████████████████████████████████████████████████████████████████| 5666019/5666019 [00:14<00:00, 400867.16it/s]\n"
     ]
    }
   ],
   "source": [
    "parse_dates = ['CHARTTIME']\n",
    "print('Loading Lab Data')\n",
    "lab_data = pd.read_csv(mimic_dir + 'LABEVENTS.csv', parse_dates=parse_dates)[['SUBJECT_ID', 'HADM_ID', 'ITEMID', 'CHARTTIME', 'VALUENUM']]\n",
    "\n",
    "print('Keeping only relevant patients')\n",
    "lab_data = lab_data[lab_data.HADM_ID.isin(set(icu_pat.HADM_ID))]\n",
    "\n",
    "print('Converting lab_events admissions to ICUSTAY_IDS')\n",
    "lab_data = lab_data.merge(icu_pat, on=['SUBJECT_ID', 'HADM_ID'], how='inner')\n",
    "lab_data = lab_data[(lab_data.CHARTTIME >= lab_data.INTIME) & (lab_data.CHARTTIME <= lab_data.OUTTIME)]\n",
    "lab_data = lab_data[['ICUSTAY_ID', 'ITEMID', 'CHARTTIME', 'VALUENUM']]\n",
    "\n",
    "print('Converting ITEMID to CONCEPT')\n",
    "lab_data.dropna(inplace=True)\n",
    "lab_data['CONCEPT'] = lab_data.ITEMID.progress_apply(lambda x: item_to_concept_map(x)) \n",
    "lab_data.dropna(inplace=True)"
   ]
  },
  {
   "cell_type": "code",
   "execution_count": 7,
   "id": "9b150976",
   "metadata": {
    "scrolled": true
   },
   "outputs": [
    {
     "name": "stdout",
     "output_type": "stream",
     "text": [
      "Loading Chart Data\n",
      "Keeping only relevant patients\n",
      "Converting ITEMID to CONCEPT\n"
     ]
    },
    {
     "name": "stderr",
     "output_type": "stream",
     "text": [
      "100%|██████████████████████████████████████████████████████████████████| 16985809/16985809 [00:37<00:00, 447737.37it/s]\n"
     ]
    }
   ],
   "source": [
    "print('Loading Chart Data')\n",
    "chart_data = pd.read_csv(mimic_dir + 'CHARTEVENTS.csv', parse_dates=parse_dates)[['ICUSTAY_ID', 'ITEMID', 'CHARTTIME', 'VALUENUM']]\n",
    "\n",
    "print('Keeping only relevant patients')\n",
    "chart_data = chart_data[chart_data.ICUSTAY_ID.isin(set(icu_pat.ICUSTAY_ID))]\n",
    "\n",
    "print('Converting ITEMID to CONCEPT')\n",
    "chart_data.dropna(inplace=True)\n",
    "chart_data['CONCEPT'] = chart_data.ITEMID.progress_apply(lambda x: item_to_concept_map(x)) \n",
    "chart_data.dropna(inplace=True)"
   ]
  },
  {
   "cell_type": "markdown",
   "id": "6eb61153",
   "metadata": {},
   "source": [
    "We need to clean the data in multiple ways to fully understand what is available: <br>\n",
    "1)If we have two conflicting measurements at the same time, we keep only the maximum. <br>\n",
    "2)We have data that should be in lab_data that appears in chart_data. We merge the two sources, and resolve conflicts by giving priority to lab_data. <br>\n",
    "3)We combine all three GCS concepts. Only if all three or the total is provided, we count it as having the measurement. "
   ]
  },
  {
   "cell_type": "markdown",
   "id": "31b7a8f5",
   "metadata": {},
   "source": [
    "Keeping only maximum of each timestamp"
   ]
  },
  {
   "cell_type": "code",
   "execution_count": 8,
   "id": "d3fe6acd",
   "metadata": {},
   "outputs": [],
   "source": [
    "lab_data = lab_data.groupby(['ICUSTAY_ID', 'CHARTTIME', 'CONCEPT']).max().reset_index()\n",
    "chart_data = chart_data.groupby(['ICUSTAY_ID', 'CHARTTIME', 'CONCEPT']).max().reset_index()"
   ]
  },
  {
   "cell_type": "markdown",
   "id": "8600b5d4",
   "metadata": {},
   "source": [
    "Transferring lab tests from chart_data back to lab_data"
   ]
  },
  {
   "cell_type": "code",
   "execution_count": 9,
   "id": "743c4f63",
   "metadata": {},
   "outputs": [],
   "source": [
    "temp_chart_lab = chart_data[chart_data.CONCEPT.isin(lab_measurments)]\n",
    "existing_lab = lab_data.set_index(['ICUSTAY_ID', 'CHARTTIME', 'CONCEPT']).index\n",
    "temp_chart_lab = temp_chart_lab.set_index(['ICUSTAY_ID', 'CHARTTIME', 'CONCEPT'])\n",
    "missing_lab = temp_chart_lab.index.difference(existing_lab)\n",
    "temp_chart_lab = temp_chart_lab.loc[missing_lab, :].reset_index()\n",
    "lab_data = pd.concat([lab_data, temp_chart_lab.reset_index()])\\\n",
    "        .groupby(['ICUSTAY_ID', 'CHARTTIME', 'CONCEPT']).max().reset_index().drop(columns=['index'])\n",
    "chart_data = chart_data[~chart_data.CONCEPT.isin(lab_measurments)]"
   ]
  },
  {
   "cell_type": "markdown",
   "id": "aa0a77cb",
   "metadata": {},
   "source": [
    "Combining GCS measurements"
   ]
  },
  {
   "cell_type": "code",
   "execution_count": 10,
   "id": "8696d3d5",
   "metadata": {},
   "outputs": [],
   "source": [
    "chart_data.sort_values(by=['ICUSTAY_ID', 'CHARTTIME'], ascending=[True, False], inplace=True)\n",
    "# Compute GCS total if not available\n",
    "rows_gcs = (chart_data['CONCEPT'] == 'GCS_EYE_OPENING') | (chart_data['CONCEPT'] == 'GCS_VERBAL_RESPONSE') | (\n",
    "            chart_data['CONCEPT'] == 'GCS_MOTOR_RESPONSE') | (chart_data['CONCEPT'] == 'GCS_TOTAL' )\n",
    "chart_data_gcs = chart_data[rows_gcs]\n",
    "chart_data_gcs = chart_data_gcs.pivot_table(index=['ICUSTAY_ID', 'CHARTTIME'], columns='CONCEPT',\n",
    "                                    values='VALUENUM')\n",
    "chart_data_gcs = chart_data_gcs.rename_axis(None, axis=1).reset_index()\n",
    "null_gcs_total = chart_data_gcs['GCS_TOTAL'].isnull()\n",
    "chart_data_gcs.loc[null_gcs_total, 'GCS_TOTAL'] = chart_data_gcs['GCS_EYE_OPENING'] + chart_data_gcs['GCS_VERBAL_RESPONSE'] + chart_data_gcs[\n",
    "    'GCS_MOTOR_RESPONSE']\n",
    "chart_data_gcs = chart_data_gcs.rename(columns={'GCS_TOTAL': 'VALUENUM'})\n",
    "chart_data_gcs['CONCEPT'] = 'GCS_TOTAL'\n",
    "chart_data_gcs.drop(columns=['GCS_EYE_OPENING', 'GCS_VERBAL_RESPONSE', 'GCS_MOTOR_RESPONSE'], inplace=True)\n",
    "\n",
    "# Merge back with rest of the table\n",
    "rows_others = ~rows_gcs \n",
    "chart_data = pd.concat([chart_data_gcs, chart_data[rows_others]], ignore_index=True, sort=False).drop(columns=['ITEMID'])\n",
    "chart_data.sort_values(by=['ICUSTAY_ID', 'CHARTTIME'], ascending=[True, False], inplace=True)"
   ]
  },
  {
   "cell_type": "markdown",
   "id": "b3cb4b3d",
   "metadata": {},
   "source": [
    "## Remove stays with insufficient measurements\n",
    "### We demand at least one from each lab test measurement, and five from each chart (high frequency) measurement."
   ]
  },
  {
   "cell_type": "markdown",
   "id": "400b6a3e",
   "metadata": {},
   "source": [
    "Removing from lab_data"
   ]
  },
  {
   "cell_type": "code",
   "execution_count": 11,
   "id": "81c917fa",
   "metadata": {},
   "outputs": [
    {
     "data": {
      "text/plain": [
       "15661"
      ]
     },
     "execution_count": 11,
     "metadata": {},
     "output_type": "execute_result"
    }
   ],
   "source": [
    "lab_data = lab_data[lab_data.CONCEPT.isin(lab_measurments)].dropna()\n",
    "# we count the number of observations for each stay and each measurement, filling in zeros for stays with no\n",
    "# observations for a measurement, then we take the minimum number of observations for each stay and remove stays\n",
    "# with less than 5 observations\n",
    "min_counts_labs = lab_data.groupby(['ICUSTAY_ID', 'CONCEPT']).count().unstack(fill_value=0).stack()['CHARTTIME'].groupby(level=0).min()\n",
    "sufficient_stays_labs = min_counts_labs[min_counts_labs >= 1].index\n",
    "len(set(sufficient_stays_labs))"
   ]
  },
  {
   "cell_type": "markdown",
   "id": "f73ba323",
   "metadata": {},
   "source": [
    "Removing from chart_data"
   ]
  },
  {
   "cell_type": "code",
   "execution_count": 12,
   "id": "59c327f8",
   "metadata": {},
   "outputs": [
    {
     "data": {
      "text/plain": [
       "27519"
      ]
     },
     "execution_count": 12,
     "metadata": {},
     "output_type": "execute_result"
    }
   ],
   "source": [
    "chart_data = chart_data[chart_data.CONCEPT.isin(chart_measurments)].dropna()\n",
    "min_counts_charts = chart_data.groupby(['ICUSTAY_ID', 'CONCEPT']).count().unstack(fill_value=0).stack()['CHARTTIME'].groupby(level=0).min()\n",
    "sufficient_stays_charts = min_counts_charts[min_counts_charts >= 5].index\n",
    "len(set(sufficient_stays_charts))"
   ]
  },
  {
   "cell_type": "code",
   "execution_count": 13,
   "id": "87f3697d",
   "metadata": {},
   "outputs": [
    {
     "data": {
      "text/plain": [
       "15424"
      ]
     },
     "execution_count": 13,
     "metadata": {},
     "output_type": "execute_result"
    }
   ],
   "source": [
    "sufficient_stays = set(sufficient_stays_labs).intersection(set(sufficient_stays_charts))\n",
    "len(sufficient_stays)"
   ]
  },
  {
   "cell_type": "markdown",
   "id": "58c04395",
   "metadata": {},
   "source": [
    "# Create final ICUSTAY set and print demographics"
   ]
  },
  {
   "cell_type": "code",
   "execution_count": 14,
   "id": "c2615c30",
   "metadata": {},
   "outputs": [],
   "source": [
    "icu_pat = icu_pat[icu_pat.ICUSTAY_ID.isin(sufficient_stays)]"
   ]
  },
  {
   "cell_type": "code",
   "execution_count": 15,
   "id": "10f904be",
   "metadata": {},
   "outputs": [],
   "source": [
    "icu_pat['OVER_65'] = icu_pat.AGE.apply(lambda x: x>65)"
   ]
  },
  {
   "cell_type": "code",
   "execution_count": 16,
   "id": "7944bd7f",
   "metadata": {},
   "outputs": [
    {
     "name": "stdout",
     "output_type": "stream",
     "text": [
      "14837\n"
     ]
    }
   ],
   "source": [
    "print(icu_pat.SUBJECT_ID.nunique())"
   ]
  },
  {
   "cell_type": "code",
   "execution_count": 17,
   "id": "d6d9d024",
   "metadata": {},
   "outputs": [
    {
     "name": "stdout",
     "output_type": "stream",
     "text": [
      "Number of ICUSTAYS remaining: 15424\n"
     ]
    }
   ],
   "source": [
    "print('Number of ICUSTAYS remaining:', icu_pat.ICUSTAY_ID.nunique())"
   ]
  },
  {
   "cell_type": "code",
   "execution_count": 18,
   "id": "c196f68a",
   "metadata": {},
   "outputs": [
    {
     "name": "stdout",
     "output_type": "stream",
     "text": [
      "                         ICUSTAY_ID\n",
      "GENDER OVER_65 POSITIVE            \n",
      "F      False   False           2659\n",
      "               True             303\n",
      "       True    False           3176\n",
      "               True             433\n",
      "M      False   False           4268\n",
      "               True             485\n",
      "       True    False           3569\n",
      "               True             531\n"
     ]
    }
   ],
   "source": [
    "print(icu_pat.groupby(['GENDER', 'OVER_65', 'POSITIVE']).count()[['ICUSTAY_ID']])"
   ]
  },
  {
   "cell_type": "code",
   "execution_count": 19,
   "id": "ffa6f950",
   "metadata": {},
   "outputs": [
    {
     "name": "stdout",
     "output_type": "stream",
     "text": [
      "POSITIVE\n",
      "False    13672\n",
      "True      1752\n",
      "Name: ICUSTAY_ID, dtype: int64 POSITIVE\n",
      "False    0.886411\n",
      "True     0.113589\n",
      "Name: ICUSTAY_ID, dtype: float64\n"
     ]
    }
   ],
   "source": [
    "print(icu_pat.groupby('POSITIVE').count().ICUSTAY_ID,\n",
    "      icu_pat.groupby('POSITIVE').count().ICUSTAY_ID/icu_pat.shape[0])"
   ]
  },
  {
   "cell_type": "code",
   "execution_count": 20,
   "id": "bc2fc290",
   "metadata": {},
   "outputs": [],
   "source": [
    "icu_pat.ICUSTAY_ID.to_csv(mimic_dir + 'list_of_stays.csv')"
   ]
  }
 ],
 "metadata": {
  "kernelspec": {
   "display_name": "Python 3 (ipykernel)",
   "language": "python",
   "name": "python3"
  },
  "language_info": {
   "codemirror_mode": {
    "name": "ipython",
    "version": 3
   },
   "file_extension": ".py",
   "mimetype": "text/x-python",
   "name": "python",
   "nbconvert_exporter": "python",
   "pygments_lexer": "ipython3",
   "version": "3.7.13"
  }
 },
 "nbformat": 4,
 "nbformat_minor": 5
}
